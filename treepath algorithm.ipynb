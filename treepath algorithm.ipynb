{
 "cells": [
  {
   "cell_type": "code",
   "execution_count": 3,
   "metadata": {},
   "outputs": [],
   "source": [
    "import numpy as pn\n",
    "import pandas as pd\n",
    "from pandas import DataFrame, Series\n",
    "import matplotlib\n",
    "\n",
    "from heapq import heapify, heappop, heappush"
   ]
  },
  {
   "cell_type": "code",
   "execution_count": 9,
   "metadata": {},
   "outputs": [],
   "source": [
    "def prim(graph, start):\n",
    "    treepath = {}\n",
    "    total=0\n",
    "    queue=priority_queue()\n",
    "    queue.push(0, (start,start))\n",
    "    while queue:\n",
    "        weight,(node_start, node_end) = queue.pop()\n",
    "        if node_end not in treepath:\n",
    "            treepath[node_end] = node_start\n",
    "            if weight:\n",
    "                print(\"Added edge from %s\" \\\n",
    "                     \" to %s weighting %i\"\n",
    "                     % (node_start, node_end, weight))\n",
    "                total += weight\n",
    "                for next_node, weight \\\n",
    "                in graph[node_end].items():\n",
    "                    queue.push(weight, (node_end, next_node))\n",
    "        print (\"Total spanning tree lenght: %i\" % total)\n",
    "        return treepath\n",
    "    "
   ]
  },
  {
   "cell_type": "code",
   "execution_count": null,
   "metadata": {},
   "outputs": [],
   "source": []
  }
 ],
 "metadata": {
  "kernelspec": {
   "display_name": "Python 3",
   "language": "python",
   "name": "python3"
  },
  "language_info": {
   "codemirror_mode": {
    "name": "ipython",
    "version": 3
   },
   "file_extension": ".py",
   "mimetype": "text/x-python",
   "name": "python",
   "nbconvert_exporter": "python",
   "pygments_lexer": "ipython3",
   "version": "3.8.3"
  }
 },
 "nbformat": 4,
 "nbformat_minor": 4
}
